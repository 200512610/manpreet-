{
 "cells": [
  {
   "cell_type": "raw",
   "id": "96b864e9",
   "metadata": {},
   "source": [
    "QUESTION 1"
   ]
  },
  {
   "cell_type": "code",
   "execution_count": 4,
   "id": "c6fe831a",
   "metadata": {},
   "outputs": [
    {
     "data": {
      "text/plain": [
       "6"
      ]
     },
     "execution_count": 4,
     "metadata": {},
     "output_type": "execute_result"
    }
   ],
   "source": [
    " a = 0\n",
    "\n",
    "def b():\n",
    "    global a\n",
    "    a = c(a)\n",
    "      \n",
    "        \n",
    "def c(a):\n",
    "    return a + 2\n",
    "b()\n",
    "b()\n",
    "b()\n",
    "a"
   ]
  },
  {
   "cell_type": "raw",
   "id": "4f2c2b91",
   "metadata": {},
   "source": [
    "QUESTION 2"
   ]
  },
  {
   "cell_type": "code",
   "execution_count": 5,
   "id": "e56f6b36",
   "metadata": {},
   "outputs": [
    {
     "name": "stdout",
     "output_type": "stream",
     "text": [
      "File midterm.py not found.\n",
      "None\n",
      "File idterm.py not found.\n",
      "None\n"
     ]
    }
   ],
   "source": [
    "def fileLength(filename):\n",
    "    try:\n",
    "        infile = open(filename)\n",
    "        content = infile.read()\n",
    "        infile.close()\n",
    "        return len(content)\n",
    "    except FileNotFoundError:\n",
    "        print(f\"File {filename} not found.\")   \n",
    "\n",
    "print(fileLength('midterm.py'))  # prints the length of the file\n",
    "print(fileLength('idterm.py'))  # prints \"File idterm.py not found.\""
   ]
  },
  {
   "cell_type": "raw",
   "id": "895011a2",
   "metadata": {},
   "source": [
    "QUESTION3"
   ]
  },
  {
   "cell_type": "code",
   "execution_count": 8,
   "id": "1eaac668",
   "metadata": {},
   "outputs": [],
   "source": [
    " class Marsupial:\n",
    "    def _init_(self):\n",
    "        self.pouch = []\n",
    "        \n",
    "    def put_in_pouch(self, item):\n",
    "        self.pouch.append(item)\n",
    "        \n",
    "    def pouch_contents(self):\n",
    "        return self.pouch\n",
    "\n",
    "\n",
    "class Kangaroo(Marsupial):\n",
    "    def _init_(self, x=0, y=0):\n",
    "        super()._init_()\n",
    "        self.x = x\n",
    "        self.y = y\n",
    "        \n",
    "    def jump(self, dx, dy):\n",
    "        self.x += dx\n",
    "        self.y += dy\n",
    "        \n",
    "    def _str_(self):\n",
    "        return f\"I am a Kangaroo located at coordinates ({self.x},{self.y})\"\n",
    "        \n"
   ]
  },
  {
   "cell_type": "raw",
   "id": "3ae7874c",
   "metadata": {},
   "source": [
    "QUESTION 4"
   ]
  },
  {
   "cell_type": "markdown",
   "id": "cdf88515",
   "metadata": {},
   "source": [
    "  def collatz(x):\n",
    "    print(x)\n",
    "    if x == 1:\n",
    "        return\n",
    "    elif x % 2 == 0:\n",
    "        collatz(x // 2)\n",
    "    else:\n",
    "        collatz(3*x + 1)\n",
    "    \n",
    "collatz(10)  "
   ]
  },
  {
   "cell_type": "raw",
   "id": "f095394a",
   "metadata": {},
   "source": [
    "QUESTION 5"
   ]
  },
  {
   "cell_type": "code",
   "execution_count": 3,
   "id": "2bc43620",
   "metadata": {},
   "outputs": [
    {
     "ename": "AttributeError",
     "evalue": "'PriorityQueue' object has no attribute 'data'",
     "output_type": "error",
     "traceback": [
      "\u001b[1;31m---------------------------------------------------------------------------\u001b[0m",
      "\u001b[1;31mAttributeError\u001b[0m                            Traceback (most recent call last)",
      "\u001b[1;32m~\\AppData\\Local\\Temp\\ipykernel_20384\\4121807393.py\u001b[0m in \u001b[0;36m<module>\u001b[1;34m\u001b[0m\n\u001b[0;32m     25\u001b[0m \u001b[0mpq\u001b[0m \u001b[1;33m=\u001b[0m \u001b[0mPriorityQueue\u001b[0m\u001b[1;33m(\u001b[0m\u001b[1;33m)\u001b[0m\u001b[1;33m\u001b[0m\u001b[1;33m\u001b[0m\u001b[0m\n\u001b[0;32m     26\u001b[0m \u001b[1;33m\u001b[0m\u001b[0m\n\u001b[1;32m---> 27\u001b[1;33m \u001b[0mpq\u001b[0m\u001b[1;33m.\u001b[0m\u001b[0minsert\u001b[0m\u001b[1;33m(\u001b[0m\u001b[1;36m3\u001b[0m\u001b[1;33m)\u001b[0m\u001b[1;33m\u001b[0m\u001b[1;33m\u001b[0m\u001b[0m\n\u001b[0m\u001b[0;32m     28\u001b[0m \u001b[0mpq\u001b[0m\u001b[1;33m.\u001b[0m\u001b[0minsert\u001b[0m\u001b[1;33m(\u001b[0m\u001b[1;36m1\u001b[0m\u001b[1;33m)\u001b[0m\u001b[1;33m\u001b[0m\u001b[1;33m\u001b[0m\u001b[0m\n\u001b[0;32m     29\u001b[0m \u001b[0mpq\u001b[0m\u001b[1;33m.\u001b[0m\u001b[0minsert\u001b[0m\u001b[1;33m(\u001b[0m\u001b[1;36m5\u001b[0m\u001b[1;33m)\u001b[0m\u001b[1;33m\u001b[0m\u001b[1;33m\u001b[0m\u001b[0m\n",
      "\u001b[1;32m~\\AppData\\Local\\Temp\\ipykernel_20384\\4121807393.py\u001b[0m in \u001b[0;36minsert\u001b[1;34m(self, num)\u001b[0m\n\u001b[0;32m      4\u001b[0m \u001b[1;33m\u001b[0m\u001b[0m\n\u001b[0;32m      5\u001b[0m     \u001b[1;32mdef\u001b[0m \u001b[0minsert\u001b[0m\u001b[1;33m(\u001b[0m\u001b[0mself\u001b[0m\u001b[1;33m,\u001b[0m \u001b[0mnum\u001b[0m\u001b[1;33m)\u001b[0m\u001b[1;33m:\u001b[0m\u001b[1;33m\u001b[0m\u001b[1;33m\u001b[0m\u001b[0m\n\u001b[1;32m----> 6\u001b[1;33m         \u001b[0mself\u001b[0m\u001b[1;33m.\u001b[0m\u001b[0mdata\u001b[0m\u001b[1;33m.\u001b[0m\u001b[0mappend\u001b[0m\u001b[1;33m(\u001b[0m\u001b[0mnum\u001b[0m\u001b[1;33m)\u001b[0m\u001b[1;33m\u001b[0m\u001b[1;33m\u001b[0m\u001b[0m\n\u001b[0m\u001b[0;32m      7\u001b[0m \u001b[1;33m\u001b[0m\u001b[0m\n\u001b[0;32m      8\u001b[0m     \u001b[1;32mdef\u001b[0m \u001b[0mmin\u001b[0m\u001b[1;33m(\u001b[0m\u001b[0mself\u001b[0m\u001b[1;33m)\u001b[0m\u001b[1;33m:\u001b[0m\u001b[1;33m\u001b[0m\u001b[1;33m\u001b[0m\u001b[0m\n",
      "\u001b[1;31mAttributeError\u001b[0m: 'PriorityQueue' object has no attribute 'data'"
     ]
    }
   ],
   "source": [
    "class PriorityQueue:\n",
    "    def _init_(self):\n",
    "        self.data = []\n",
    "\n",
    "    def insert(self, num):\n",
    "        self.data.append(num)\n",
    "\n",
    "    def min(self):\n",
    "        if self.isEmpty():\n",
    "            return None\n",
    "        return min(self.data)\n",
    "\n",
    "    def removeMin(self):\n",
    "        if self.isEmpty():\n",
    "            return None\n",
    "        min_val = min(self.data)\n",
    "        self.data.remove(min_val)\n",
    "        return min_val\n",
    "\n",
    "    def isEmpty(self):\n",
    "        return len(self.data) == 0\n",
    "\n",
    "    def _len_(self): return len(self.data)\n",
    "\n",
    "pq = PriorityQueue()\n",
    "\n",
    "pq.insert(3)\n",
    "pq.insert(1)\n",
    "pq.insert(5)\n",
    "pq.insert(2)\n",
    "\n",
    "print(pq.min())  \n",
    "\n",
    "print(pq.removeMin())  \n",
    "print(pq.min())\n",
    "\n",
    "print(len(pq))  \n",
    "\n",
    "print(pq.isEmpty())"
   ]
  },
  {
   "cell_type": "raw",
   "id": "eb87a671",
   "metadata": {},
   "source": [
    "QUESTION 6"
   ]
  },
  {
   "cell_type": "code",
   "execution_count": 7,
   "id": "9b57d1a2",
   "metadata": {},
   "outputs": [],
   "source": [
    "from html.parser import HTMLParser\n",
    "\n",
    "\n",
    "class HeadingParser(HTMLParser):\n",
    "    def _init_(self):\n",
    "        super()._init_()\n",
    "        self.indent = 0\n",
    "        self.headings = {}\n",
    "\n",
    "    def handle_starttag(self, tag, attrs):\n",
    "        if tag.startswith('h'):\n",
    "            self.indent = int(tag[1])\n",
    "            self.headings[self.indent] = ''\n",
    "\n",
    "    def handle_data(self, data):\n",
    "        if self.indent:\n",
    "            self.headings[self.indent] += data.strip()\n",
    "\n",
    "    def handle_endtag(self, tag):\n",
    "        if tag.startswith('h'):\n",
    "            heading = self.headings.pop(self.indent)\n",
    "            print(' ' * (self.indent - 1) + heading)\n",
    "            self.indent = 0"
   ]
  },
  {
   "cell_type": "raw",
   "id": "73a0a4bb",
   "metadata": {},
   "source": [
    "QUESTION 7"
   ]
  },
  {
   "cell_type": "code",
   "execution_count": 7,
   "id": "1a3ce2f0",
   "metadata": {},
   "outputs": [
    {
     "name": "stdout",
     "output_type": "stream",
     "text": [
      "http://reed.cs.depaul.edu/lperkovic/one.html\n"
     ]
    }
   ],
   "source": [
    "import requests\n",
    "from bs4 import BeautifulSoup\n",
    "\n",
    "def webdir(url, depth, indent=0):\n",
    "\n",
    "    print(\" \" * indent + url)\n",
    "\n",
    "    if depth == 0:\n",
    "        return\n",
    "\n",
    "    response = requests.get(url)\n",
    "    soup = BeautifulSoup(response.content, 'html.parser')\n",
    "\n",
    "    links = soup.find_all('a')\n",
    "\n",
    "    for link in links:\n",
    "        href = link.get('href')\n",
    "        if href.startswith('http'):\n",
    "            webdir(href, depth-1, indent+4)\n",
    "\n",
    "# Example usage:\n",
    "webdir('http://reed.cs.depaul.edu/lperkovic/one.html', 2)"
   ]
  },
  {
   "cell_type": "raw",
   "id": "5d05581c",
   "metadata": {},
   "source": [
    "QUESTION 8"
   ]
  },
  {
   "cell_type": "code",
   "execution_count": 1,
   "id": "7fe55fa5",
   "metadata": {},
   "outputs": [
    {
     "ename": "SyntaxError",
     "evalue": "invalid syntax (7012186.py, line 2)",
     "output_type": "error",
     "traceback": [
      "\u001b[1;36m  File \u001b[1;32m\"C:\\Users\\grjnt\\AppData\\Local\\Temp\\ipykernel_20384\\7012186.py\"\u001b[1;36m, line \u001b[1;32m2\u001b[0m\n\u001b[1;33m    city Varchar(15),\u001b[0m\n\u001b[1;37m         ^\u001b[0m\n\u001b[1;31mSyntaxError\u001b[0m\u001b[1;31m:\u001b[0m invalid syntax\n"
     ]
    }
   ],
   "source": [
    "(\n",
    "    city Varchar(15),\n",
    "    countrt varchar(15),\n",
    "    season varchar(15),\n",
    "    temperature float,\n",
    "    rainfall float\n",
    ");\n",
    "whether Values('Mumbai','India','Winter',24.8,5.9),('Mumbai','India','Spring',28.4,16.2),('Mumbai','India','Summer',27.9,1549.4),('Mumbai','India','Fall',27.6,346.0),('London','United kingdom','winter',4.2,207.7),('London','United kingdom','Spring',8.3,169.6),('London','United kingdom','Summer',15.7,157.0),('London','United kingdom','Fall',10.4,218.5),('Cairo','Egypt','Winter',13.6,16.5),('Cairo','Egypt','Spring',20.7,6.5),('Cairo','Egypt','Summer',27.7,0.1),('Cairo','Egypt','Fall',22.2,4.5);"
   ]
  },
  {
   "cell_type": "raw",
   "id": "461fb83c",
   "metadata": {},
   "source": [
    "QUESTION 9"
   ]
  },
  {
   "cell_type": "code",
   "execution_count": 2,
   "id": "33822e8a",
   "metadata": {},
   "outputs": [
    {
     "name": "stdout",
     "output_type": "stream",
     "text": [
      "['THE', 'QUICK', 'BROWN', 'FOX', 'JUMPS', 'OVER', 'THE', 'LAZY', 'DOG']\n",
      "['the', 'quick', 'brown', 'fox', 'jumps', 'over', 'the', 'lazy', 'dog']\n",
      "[3, 5, 5, 3, 5, 4, 3, 4, 3]\n",
      "[['THE', 'the', 3], ['QUICK', 'quick', 5], ['BROWN', 'brown', 5], ['FOX', 'fox', 3], ['JUMPS', 'jumps', 5], ['OVER', 'over', 4], ['THE', 'the', 3], ['LAZY', 'lazy', 4], ['DOG', 'dog', 3]]\n",
      "['quick', 'brown', 'jumps', 'over', 'lazy']\n"
     ]
    }
   ],
   "source": [
    "words = ['The','quick','brown','fox','jumps','over','the','lazy','dog']\n",
    "\n",
    "#Printing all words upper case\n",
    "print([x.upper() for x in words])\n",
    "\n",
    "#Printing all words lower case\n",
    "print([x.lower() for x in words])\n",
    "\n",
    "#Printing length of each word\n",
    "print([len(x) for x in words])\n",
    "\n",
    "#Printing the list containing a list for every word of list words,\n",
    "#where each list contains the word in uppercase and lowercase and the length of the word\n",
    "print([[x.upper(), x.lower(), len(x)] for x in words])\n",
    "\n",
    "#Printing the list of words in list words containing 4 or more chatracters\n",
    "print([x for x in words if len(x)>=4])"
   ]
  },
  {
   "cell_type": "code",
   "execution_count": null,
   "id": "d1a3ad7a",
   "metadata": {},
   "outputs": [],
   "source": []
  }
 ],
 "metadata": {
  "kernelspec": {
   "display_name": "Python 3 (ipykernel)",
   "language": "python",
   "name": "python3"
  },
  "language_info": {
   "codemirror_mode": {
    "name": "ipython",
    "version": 3
   },
   "file_extension": ".py",
   "mimetype": "text/x-python",
   "name": "python",
   "nbconvert_exporter": "python",
   "pygments_lexer": "ipython3",
   "version": "3.9.13"
  }
 },
 "nbformat": 4,
 "nbformat_minor": 5
}
