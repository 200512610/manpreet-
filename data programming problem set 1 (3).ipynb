{
 "cells": [
  {
   "cell_type": "markdown",
   "id": "7944b4d4",
   "metadata": {},
   "source": [
    "# PROBLEM SET 1"
   ]
  },
  {
   "cell_type": "markdown",
   "id": "63ddfa3e",
   "metadata": {},
   "source": [
    "Question 1"
   ]
  },
  {
   "cell_type": "code",
   "execution_count": 1,
   "id": "07450e15",
   "metadata": {},
   "outputs": [
    {
     "name": "stdout",
     "output_type": "stream",
     "text": [
      "<class 'int'>\n"
     ]
    }
   ],
   "source": [
    "print(type(5))"
   ]
  },
  {
   "cell_type": "code",
   "execution_count": 2,
   "id": "129cca4f",
   "metadata": {},
   "outputs": [
    {
     "name": "stdout",
     "output_type": "stream",
     "text": [
      "<class 'float'>\n"
     ]
    }
   ],
   "source": [
    "print(type(5.0))"
   ]
  },
  {
   "cell_type": "code",
   "execution_count": 3,
   "id": "8f22e29c",
   "metadata": {},
   "outputs": [
    {
     "name": "stdout",
     "output_type": "stream",
     "text": [
      "<class 'bool'>\n"
     ]
    }
   ],
   "source": [
    "print(type(5>1))"
   ]
  },
  {
   "cell_type": "code",
   "execution_count": 4,
   "id": "c915482d",
   "metadata": {},
   "outputs": [
    {
     "name": "stdout",
     "output_type": "stream",
     "text": [
      "<class 'str'>\n"
     ]
    }
   ],
   "source": [
    "print(type('5'))"
   ]
  },
  {
   "cell_type": "code",
   "execution_count": 5,
   "id": "81247b9a",
   "metadata": {},
   "outputs": [
    {
     "name": "stdout",
     "output_type": "stream",
     "text": [
      "<class 'int'>\n"
     ]
    }
   ],
   "source": [
    "print(type(5*2))"
   ]
  },
  {
   "cell_type": "code",
   "execution_count": 6,
   "id": "554cf636",
   "metadata": {},
   "outputs": [
    {
     "name": "stdout",
     "output_type": "stream",
     "text": [
      "<class 'str'>\n"
     ]
    }
   ],
   "source": [
    "print(type('5'*2))"
   ]
  },
  {
   "cell_type": "code",
   "execution_count": 7,
   "id": "da394d5e",
   "metadata": {},
   "outputs": [
    {
     "name": "stdout",
     "output_type": "stream",
     "text": [
      "<class 'str'>\n"
     ]
    }
   ],
   "source": [
    "print(type('5'+'2'))"
   ]
  },
  {
   "cell_type": "code",
   "execution_count": 8,
   "id": "db5a98da",
   "metadata": {},
   "outputs": [
    {
     "name": "stdout",
     "output_type": "stream",
     "text": [
      "<class 'float'>\n"
     ]
    }
   ],
   "source": [
    "print(type(5/2))"
   ]
  },
  {
   "cell_type": "code",
   "execution_count": 9,
   "id": "f0d9dfab",
   "metadata": {},
   "outputs": [
    {
     "name": "stdout",
     "output_type": "stream",
     "text": [
      "<class 'int'>\n"
     ]
    }
   ],
   "source": [
    "print(type(5%2))"
   ]
  },
  {
   "cell_type": "code",
   "execution_count": 10,
   "id": "54a19eea",
   "metadata": {},
   "outputs": [
    {
     "name": "stdout",
     "output_type": "stream",
     "text": [
      "<class 'set'>\n"
     ]
    }
   ],
   "source": [
    "print(type({5,2,1}))"
   ]
  },
  {
   "cell_type": "code",
   "execution_count": 11,
   "id": "ddd4098d",
   "metadata": {},
   "outputs": [
    {
     "name": "stdout",
     "output_type": "stream",
     "text": [
      "<class 'bool'>\n"
     ]
    }
   ],
   "source": [
    "print(type(5==3))"
   ]
  },
  {
   "cell_type": "code",
   "execution_count": 12,
   "id": "2ff45fb8",
   "metadata": {},
   "outputs": [
    {
     "name": "stdout",
     "output_type": "stream",
     "text": [
      "<class 'float'>\n"
     ]
    }
   ],
   "source": [
    "import math\n",
    "print(type(math.pi))"
   ]
  },
  {
   "cell_type": "markdown",
   "id": "2b506e10",
   "metadata": {},
   "source": [
    "Question2"
   ]
  },
  {
   "cell_type": "markdown",
   "id": "57ead26c",
   "metadata": {},
   "source": [
    "a"
   ]
  },
  {
   "cell_type": "code",
   "execution_count": 14,
   "id": "06fa94fd",
   "metadata": {},
   "outputs": [
    {
     "name": "stdout",
     "output_type": "stream",
     "text": [
      "34\n"
     ]
    }
   ],
   "source": [
    "s='Supercalifragilisticexpialidocious'\n",
    "print(len(s))"
   ]
  },
  {
   "cell_type": "markdown",
   "id": "03217fcb",
   "metadata": {},
   "source": [
    "b"
   ]
  },
  {
   "cell_type": "code",
   "execution_count": 46,
   "id": "47070faa",
   "metadata": {},
   "outputs": [
    {
     "name": "stdout",
     "output_type": "stream",
     "text": [
      "True\n"
     ]
    }
   ],
   "source": [
    "s='Supercalifragilisticexpialidocious'\n",
    "print(s.__contains__('ice'))"
   ]
  },
  {
   "cell_type": "code",
   "execution_count": 22,
   "id": "93c4f608",
   "metadata": {},
   "outputs": [
    {
     "name": "stdout",
     "output_type": "stream",
     "text": [
      "Supercalifragilisticexpialidocious\n"
     ]
    }
   ],
   "source": [
    "s=(\"Supercalifragilisticexpialidocious\",\" Honorificabilitudinitatibus\",\" Bababadalgharaghtakamminarronnkonn \")\n",
    "maxnumber=max(s)\n",
    "print(maxnumber)"
   ]
  },
  {
   "cell_type": "code",
   "execution_count": 23,
   "id": "f33d1f9f",
   "metadata": {},
   "outputs": [
    {
     "name": "stdout",
     "output_type": "stream",
     "text": [
      "['Bartok', 'Bellini', 'Berlioz', 'Bernstein', 'Borodin', 'Brian', 'Buxtehude']\n",
      "First= Bartok\n",
      "Last= Buxtehude\n"
     ]
    }
   ],
   "source": [
    "composers=['Berlioz', 'Borodin', 'Brian','Bartok', 'Bellini', 'Buxtehude', 'Bernstein']\n",
    "classified_composers= sorted(composers)\n",
    "print(classified_composers)\n",
    "first= print(\"First=\", classified_composers[0])\n",
    "last= print(\"Last=\", classified_composers[-1])"
   ]
  },
  {
   "cell_type": "markdown",
   "id": "bc0cc947",
   "metadata": {},
   "source": [
    "Question3"
   ]
  },
  {
   "cell_type": "code",
   "execution_count": 27,
   "id": "4619015d",
   "metadata": {},
   "outputs": [
    {
     "name": "stdout",
     "output_type": "stream",
     "text": [
      "Enter first side:2\n",
      "Enter second side:2\n",
      "Enter third side:2\n",
      "The area of the triangle is 1.73\n"
     ]
    }
   ],
   "source": [
    "A=float (input('Enter first side:'))\n",
    "B=float(input('Enter second side:'))\n",
    "C=float(input('Enter third side:'))\n",
    "s=(A+B+C)/2\n",
    "area=(s*(s-A)*(s-B)*(s-C))**0.5\n",
    "print('The area of the triangle is %0.2f' %area)\n"
   ]
  },
  {
   "cell_type": "markdown",
   "id": "a0248ade",
   "metadata": {},
   "source": [
    "Question4"
   ]
  },
  {
   "cell_type": "code",
   "execution_count": 29,
   "id": "adcce250",
   "metadata": {},
   "outputs": [
    {
     "name": "stdout",
     "output_type": "stream",
     "text": [
      "Enter number of element:5\n",
      "Enter element:25\n",
      "Enter element:47\n",
      "Enter element:42\n",
      "Enter element:56\n",
      "Enter element:32\n",
      "The even list [42, 56, 32]\n",
      "The odd list [25, 47]\n"
     ]
    }
   ],
   "source": [
    "b=[]\n",
    "n=int(input(\"Enter number of element:\"))\n",
    "for i in range(1,n+1):\n",
    "    a=int(input(\"Enter element:\"))\n",
    "    b.append(a)\n",
    "even=[]\n",
    "odd=[]\n",
    "for j in b:\n",
    "    if(j%2==0):\n",
    "        even.append(j)\n",
    "    else:\n",
    "          odd.append(j)\n",
    "print(\"The even list\",even)\n",
    "print(\"The odd list\",odd)"
   ]
  },
  {
   "cell_type": "markdown",
   "id": "8d70bb00",
   "metadata": {},
   "source": [
    "Question5"
   ]
  },
  {
   "cell_type": "code",
   "execution_count": null,
   "id": "99fc8748",
   "metadata": {},
   "outputs": [],
   "source": [
    "a"
   ]
  },
  {
   "cell_type": "code",
   "execution_count": 30,
   "id": "aabbe52a",
   "metadata": {},
   "outputs": [
    {
     "data": {
      "text/plain": [
       "True"
      ]
     },
     "execution_count": 30,
     "metadata": {},
     "output_type": "execute_result"
    }
   ],
   "source": [
    "def inside(x,y,x1,y1,x2,y2):\n",
    "    if x1 <= x <= x2 and y1 <= y <= y2:\n",
    "        return True\n",
    "    else:\n",
    "        return False\n",
    "             \n",
    "        \n",
    "inside(1,1,0,0,2,3)"
   ]
  },
  {
   "cell_type": "markdown",
   "id": "d7372618",
   "metadata": {},
   "source": [
    "b"
   ]
  },
  {
   "cell_type": "code",
   "execution_count": 31,
   "id": "19f69287",
   "metadata": {},
   "outputs": [
    {
     "name": "stdout",
     "output_type": "stream",
     "text": [
      "False\n"
     ]
    }
   ],
   "source": [
    "def inside(x,y,x1,y1,x2,y2):\n",
    "    if (x >=x1 and x <=x2 and y >=y1 and y <=y2):\n",
    "        return True\n",
    "    elif(x >=x2 and x <=x1 and y >=y2 and  y <=y1):\n",
    "        return True\n",
    "    else:\n",
    "        return False \n",
    "print(inside(1,1,0.3,0.5,1.1,0.7)and inside(1,1,0.5,0.2,1.1,2))\n"
   ]
  },
  {
   "cell_type": "markdown",
   "id": "6a60cec3",
   "metadata": {},
   "source": [
    "Question 6"
   ]
  },
  {
   "cell_type": "code",
   "execution_count": 32,
   "id": "5749eb26",
   "metadata": {},
   "outputs": [
    {
     "name": "stdout",
     "output_type": "stream",
     "text": [
      "appyhay\n",
      "enterway\n"
     ]
    }
   ],
   "source": [
    "vowels= ('a','e','i','o','u')\n",
    "def pig_Latin(word):  \n",
    "               \n",
    "         \n",
    "        if(word[0] .lower() in vowels):\n",
    "            #look for vowels in first letter\n",
    "            print(word.lower() +\"way\")\n",
    "        else:  \n",
    "            print(word[1:].lower()+word[0].lower()+'ay')\n",
    "            return(\"The output is:\")\n",
    "pig_Latin(\"happy\")\n",
    "pig_Latin(\"Enter\")"
   ]
  },
  {
   "cell_type": "markdown",
   "id": "048f49dd",
   "metadata": {},
   "source": [
    "Question 8"
   ]
  },
  {
   "cell_type": "code",
   "execution_count": 44,
   "id": "4556b212",
   "metadata": {},
   "outputs": [],
   "source": [
    "def curconv (p,q):              #a functions which indicates 2 values, one is currency and other is exchange value\n",
    "    \n",
    "#where currency rate=p and exchange value=q\n",
    "    \n",
    "    \n",
    "    \n",
    "    for line in r.readlines():\n",
    "        f= line.split()\n",
    "        currency_type,value = f[0], float(f[1])\n",
    "        \n",
    "        if(currency_type == p):\n",
    "            break\n",
    "            \n",
    "    \n",
    "        return value * q\n",
    "    \n",
    "    print (curconv(\"EUR\",100))\n",
    "    print  (curconv(\"JYN\",100))"
   ]
  },
  {
   "cell_type": "markdown",
   "id": "cc9037ea",
   "metadata": {},
   "source": [
    "Question9"
   ]
  },
  {
   "cell_type": "markdown",
   "id": "b512107a",
   "metadata": {},
   "source": [
    "whenever we attempt to attach variable like in ad 6+'a '\n",
    "'\n",
    "error type=\"invalid character\"\n",
    "\n",
    "if we want to print 12 items from a list with only 10, how should we do it?\n",
    "\n",
    "error=\"list index out of range\"\n",
    "\n",
    "using an out of range value as a function's input.\n",
    "\n",
    "error=\"valueError expection\"\n",
    "\n",
    "using a variable that has not been declared, such as print(x).\n",
    "\n",
    "error='x' is not defined\n",
    "\n",
    "Attempting to open a document that doesn't exist,such as by inputting the record name incorrectly orexhaustively searching in a bad directory\n",
    "\n",
    "error=No such document found\n",
    "\n",
    "\n"
   ]
  },
  {
   "cell_type": "markdown",
   "id": "b2d2a774",
   "metadata": {},
   "source": [
    "Question10"
   ]
  },
  {
   "cell_type": "code",
   "execution_count": 39,
   "id": "470cc575",
   "metadata": {},
   "outputs": [
    {
     "name": "stdout",
     "output_type": "stream",
     "text": [
      "count{'a': 1}\n",
      "count{'a': 1, 'p': 1}\n",
      "count{'a': 1, 'p': 2, 'l': 1}\n",
      "count{'a': 1, 'p': 2, 'l': 1, 'e': 1}\n"
     ]
    }
   ],
   "source": [
    "test_str = \"apple\"\n",
    "all_freq = {}\n",
    "for i in test_str:\n",
    "    if i in all_freq:\n",
    "        all_freq[i] +=1\n",
    "    else:\n",
    "        all_freq[i] = 1\n",
    "        print(\"count\" +str(all_freq))\n",
    "        "
   ]
  }
 ],
 "metadata": {
  "kernelspec": {
   "display_name": "Python 3 (ipykernel)",
   "language": "python",
   "name": "python3"
  },
  "language_info": {
   "codemirror_mode": {
    "name": "ipython",
    "version": 3
   },
   "file_extension": ".py",
   "mimetype": "text/x-python",
   "name": "python",
   "nbconvert_exporter": "python",
   "pygments_lexer": "ipython3",
   "version": "3.9.13"
  }
 },
 "nbformat": 4,
 "nbformat_minor": 5
}
